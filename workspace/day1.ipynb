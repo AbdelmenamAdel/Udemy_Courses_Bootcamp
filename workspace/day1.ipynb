{
 "cells": [
  {
   "cell_type": "code",
   "execution_count": 1,
   "metadata": {},
   "outputs": [
    {
     "name": "stdout",
     "output_type": "stream",
     "text": [
      "<class 'pandas.core.frame.DataFrame'>\n",
      "RangeIndex: 13608 entries, 0 to 13607\n",
      "Data columns (total 20 columns):\n",
      " #   Column                        Non-Null Count  Dtype  \n",
      "---  ------                        --------------  -----  \n",
      " 0   id                            13608 non-null  int64  \n",
      " 1   title                         13608 non-null  object \n",
      " 2   url                           13608 non-null  object \n",
      " 3   is_paid                       13608 non-null  bool   \n",
      " 4   num_subscribers               13608 non-null  int64  \n",
      " 5   avg_rating                    13608 non-null  float64\n",
      " 6   avg_rating_recent             13608 non-null  float64\n",
      " 7   rating                        13608 non-null  float64\n",
      " 8   num_reviews                   13608 non-null  int64  \n",
      " 9   is_wishlisted                 13608 non-null  bool   \n",
      " 10  num_published_lectures        13608 non-null  int64  \n",
      " 11  num_published_practice_tests  13608 non-null  int64  \n",
      " 12  created                       13608 non-null  object \n",
      " 13  published_time                13608 non-null  object \n",
      " 14  discount_price__amount        12205 non-null  float64\n",
      " 15  discount_price__currency      12205 non-null  object \n",
      " 16  discount_price__price_string  12205 non-null  object \n",
      " 17  price_detail__amount          13111 non-null  float64\n",
      " 18  price_detail__currency        13111 non-null  object \n",
      " 19  price_detail__price_string    13111 non-null  object \n",
      "dtypes: bool(2), float64(5), int64(5), object(8)\n",
      "memory usage: 1.9+ MB\n"
     ]
    },
    {
     "data": {
      "text/html": [
       "<div>\n",
       "<style scoped>\n",
       "    .dataframe tbody tr th:only-of-type {\n",
       "        vertical-align: middle;\n",
       "    }\n",
       "\n",
       "    .dataframe tbody tr th {\n",
       "        vertical-align: top;\n",
       "    }\n",
       "\n",
       "    .dataframe thead th {\n",
       "        text-align: right;\n",
       "    }\n",
       "</style>\n",
       "<table border=\"1\" class=\"dataframe\">\n",
       "  <thead>\n",
       "    <tr style=\"text-align: right;\">\n",
       "      <th></th>\n",
       "      <th>id</th>\n",
       "      <th>title</th>\n",
       "      <th>url</th>\n",
       "      <th>is_paid</th>\n",
       "      <th>num_subscribers</th>\n",
       "      <th>avg_rating</th>\n",
       "      <th>avg_rating_recent</th>\n",
       "      <th>rating</th>\n",
       "      <th>num_reviews</th>\n",
       "      <th>is_wishlisted</th>\n",
       "      <th>num_published_lectures</th>\n",
       "      <th>num_published_practice_tests</th>\n",
       "      <th>created</th>\n",
       "      <th>published_time</th>\n",
       "      <th>discount_price__amount</th>\n",
       "      <th>discount_price__currency</th>\n",
       "      <th>discount_price__price_string</th>\n",
       "      <th>price_detail__amount</th>\n",
       "      <th>price_detail__currency</th>\n",
       "      <th>price_detail__price_string</th>\n",
       "    </tr>\n",
       "  </thead>\n",
       "  <tbody>\n",
       "    <tr>\n",
       "      <th>0</th>\n",
       "      <td>762616</td>\n",
       "      <td>The Complete SQL Bootcamp 2020: Go from Zero t...</td>\n",
       "      <td>/course/the-complete-sql-bootcamp/</td>\n",
       "      <td>True</td>\n",
       "      <td>295509</td>\n",
       "      <td>4.66019</td>\n",
       "      <td>4.67874</td>\n",
       "      <td>4.67874</td>\n",
       "      <td>78006</td>\n",
       "      <td>False</td>\n",
       "      <td>84</td>\n",
       "      <td>0</td>\n",
       "      <td>2016-02-14T22:57:48Z</td>\n",
       "      <td>2016-04-06T05:16:11Z</td>\n",
       "      <td>455.0</td>\n",
       "      <td>INR</td>\n",
       "      <td>₹455</td>\n",
       "      <td>8640.0</td>\n",
       "      <td>INR</td>\n",
       "      <td>₹8,640</td>\n",
       "    </tr>\n",
       "    <tr>\n",
       "      <th>1</th>\n",
       "      <td>937678</td>\n",
       "      <td>Tableau 2020 A-Z: Hands-On Tableau Training fo...</td>\n",
       "      <td>/course/tableau10/</td>\n",
       "      <td>True</td>\n",
       "      <td>209070</td>\n",
       "      <td>4.58956</td>\n",
       "      <td>4.60015</td>\n",
       "      <td>4.60015</td>\n",
       "      <td>54581</td>\n",
       "      <td>False</td>\n",
       "      <td>78</td>\n",
       "      <td>0</td>\n",
       "      <td>2016-08-22T12:10:18Z</td>\n",
       "      <td>2016-08-23T16:59:49Z</td>\n",
       "      <td>455.0</td>\n",
       "      <td>INR</td>\n",
       "      <td>₹455</td>\n",
       "      <td>8640.0</td>\n",
       "      <td>INR</td>\n",
       "      <td>₹8,640</td>\n",
       "    </tr>\n",
       "    <tr>\n",
       "      <th>2</th>\n",
       "      <td>1361790</td>\n",
       "      <td>PMP Exam Prep Seminar -  PMBOK Guide 6</td>\n",
       "      <td>/course/pmp-pmbok6-35-pdus/</td>\n",
       "      <td>True</td>\n",
       "      <td>155282</td>\n",
       "      <td>4.59491</td>\n",
       "      <td>4.59326</td>\n",
       "      <td>4.59326</td>\n",
       "      <td>52653</td>\n",
       "      <td>False</td>\n",
       "      <td>292</td>\n",
       "      <td>2</td>\n",
       "      <td>2017-09-26T16:32:48Z</td>\n",
       "      <td>2017-11-14T23:58:14Z</td>\n",
       "      <td>455.0</td>\n",
       "      <td>INR</td>\n",
       "      <td>₹455</td>\n",
       "      <td>8640.0</td>\n",
       "      <td>INR</td>\n",
       "      <td>₹8,640</td>\n",
       "    </tr>\n",
       "    <tr>\n",
       "      <th>3</th>\n",
       "      <td>648826</td>\n",
       "      <td>The Complete Financial Analyst Course 2020</td>\n",
       "      <td>/course/the-complete-financial-analyst-course/</td>\n",
       "      <td>True</td>\n",
       "      <td>245860</td>\n",
       "      <td>4.54407</td>\n",
       "      <td>4.53772</td>\n",
       "      <td>4.53772</td>\n",
       "      <td>46447</td>\n",
       "      <td>False</td>\n",
       "      <td>338</td>\n",
       "      <td>0</td>\n",
       "      <td>2015-10-23T13:34:35Z</td>\n",
       "      <td>2016-01-21T01:38:48Z</td>\n",
       "      <td>455.0</td>\n",
       "      <td>INR</td>\n",
       "      <td>₹455</td>\n",
       "      <td>8640.0</td>\n",
       "      <td>INR</td>\n",
       "      <td>₹8,640</td>\n",
       "    </tr>\n",
       "    <tr>\n",
       "      <th>4</th>\n",
       "      <td>637930</td>\n",
       "      <td>An Entire MBA in 1 Course:Award Winning Busine...</td>\n",
       "      <td>/course/an-entire-mba-in-1-courseaward-winning...</td>\n",
       "      <td>True</td>\n",
       "      <td>374836</td>\n",
       "      <td>4.47080</td>\n",
       "      <td>4.47173</td>\n",
       "      <td>4.47173</td>\n",
       "      <td>41630</td>\n",
       "      <td>False</td>\n",
       "      <td>83</td>\n",
       "      <td>0</td>\n",
       "      <td>2015-10-12T06:39:46Z</td>\n",
       "      <td>2016-01-11T21:39:33Z</td>\n",
       "      <td>455.0</td>\n",
       "      <td>INR</td>\n",
       "      <td>₹455</td>\n",
       "      <td>8640.0</td>\n",
       "      <td>INR</td>\n",
       "      <td>₹8,640</td>\n",
       "    </tr>\n",
       "  </tbody>\n",
       "</table>\n",
       "</div>"
      ],
      "text/plain": [
       "        id                                              title  \\\n",
       "0   762616  The Complete SQL Bootcamp 2020: Go from Zero t...   \n",
       "1   937678  Tableau 2020 A-Z: Hands-On Tableau Training fo...   \n",
       "2  1361790             PMP Exam Prep Seminar -  PMBOK Guide 6   \n",
       "3   648826         The Complete Financial Analyst Course 2020   \n",
       "4   637930  An Entire MBA in 1 Course:Award Winning Busine...   \n",
       "\n",
       "                                                 url  is_paid  \\\n",
       "0                 /course/the-complete-sql-bootcamp/     True   \n",
       "1                                 /course/tableau10/     True   \n",
       "2                        /course/pmp-pmbok6-35-pdus/     True   \n",
       "3     /course/the-complete-financial-analyst-course/     True   \n",
       "4  /course/an-entire-mba-in-1-courseaward-winning...     True   \n",
       "\n",
       "   num_subscribers  avg_rating  avg_rating_recent   rating  num_reviews  \\\n",
       "0           295509     4.66019            4.67874  4.67874        78006   \n",
       "1           209070     4.58956            4.60015  4.60015        54581   \n",
       "2           155282     4.59491            4.59326  4.59326        52653   \n",
       "3           245860     4.54407            4.53772  4.53772        46447   \n",
       "4           374836     4.47080            4.47173  4.47173        41630   \n",
       "\n",
       "   is_wishlisted  num_published_lectures  num_published_practice_tests  \\\n",
       "0          False                      84                             0   \n",
       "1          False                      78                             0   \n",
       "2          False                     292                             2   \n",
       "3          False                     338                             0   \n",
       "4          False                      83                             0   \n",
       "\n",
       "                created        published_time  discount_price__amount  \\\n",
       "0  2016-02-14T22:57:48Z  2016-04-06T05:16:11Z                   455.0   \n",
       "1  2016-08-22T12:10:18Z  2016-08-23T16:59:49Z                   455.0   \n",
       "2  2017-09-26T16:32:48Z  2017-11-14T23:58:14Z                   455.0   \n",
       "3  2015-10-23T13:34:35Z  2016-01-21T01:38:48Z                   455.0   \n",
       "4  2015-10-12T06:39:46Z  2016-01-11T21:39:33Z                   455.0   \n",
       "\n",
       "  discount_price__currency discount_price__price_string  price_detail__amount  \\\n",
       "0                      INR                         ₹455                8640.0   \n",
       "1                      INR                         ₹455                8640.0   \n",
       "2                      INR                         ₹455                8640.0   \n",
       "3                      INR                         ₹455                8640.0   \n",
       "4                      INR                         ₹455                8640.0   \n",
       "\n",
       "  price_detail__currency price_detail__price_string  \n",
       "0                    INR                     ₹8,640  \n",
       "1                    INR                     ₹8,640  \n",
       "2                    INR                     ₹8,640  \n",
       "3                    INR                     ₹8,640  \n",
       "4                    INR                     ₹8,640  "
      ]
     },
     "execution_count": 1,
     "metadata": {},
     "output_type": "execute_result"
    }
   ],
   "source": [
    " #! Bootcamb Day one Data Science \n",
    "import pandas as pd\n",
    "import matplotlib.pyplot as plt\n",
    "import seaborn as sns\n",
    "from sklearn.impute import SimpleImputer\n",
    "\n",
    "# Load the dataset\n",
    "df=pd.read_csv(\"../datasets/dataset.csv\")\n",
    "\n",
    "df.info()\n",
    "df.head()"
   ]
  },
  {
   "cell_type": "markdown",
   "metadata": {},
   "source": [
    "<hr style=\"border: 2px solid #fb04ff; width: 80%;\">\n",
    "<h1 style=\"text-align:center; font-family: 'Arial', sans-serif; color:#fb04ff;\">\n",
    "    🧠 1. Data Exploration📊\n",
    "</h1>\n",
    "<hr style=\"border: 2px solid #fb04ff; width: 80%;\">\n",
    "\n"
   ]
  },
  {
   "cell_type": "code",
   "execution_count": 2,
   "metadata": {},
   "outputs": [
    {
     "name": "stdout",
     "output_type": "stream",
     "text": [
      "<class 'pandas.core.frame.DataFrame'>\n",
      "RangeIndex: 13608 entries, 0 to 13607\n",
      "Data columns (total 13 columns):\n",
      " #   Column                        Non-Null Count  Dtype  \n",
      "---  ------                        --------------  -----  \n",
      " 0   id                            13608 non-null  int64  \n",
      " 1   title                         13608 non-null  object \n",
      " 2   is_paid                       13608 non-null  bool   \n",
      " 3   num_subscribers               13608 non-null  int64  \n",
      " 4   rating                        13608 non-null  float64\n",
      " 5   num_reviews                   13608 non-null  int64  \n",
      " 6   is_wishlisted                 13608 non-null  bool   \n",
      " 7   num_published_lectures        13608 non-null  int64  \n",
      " 8   num_published_practice_tests  13608 non-null  int64  \n",
      " 9   created                       13608 non-null  object \n",
      " 10  published_time                13608 non-null  object \n",
      " 11  discount_price__amount        12205 non-null  float64\n",
      " 12  price_detail__amount          13111 non-null  float64\n",
      "dtypes: bool(2), float64(3), int64(5), object(3)\n",
      "memory usage: 1.2+ MB\n"
     ]
    },
    {
     "data": {
      "text/html": [
       "<div>\n",
       "<style scoped>\n",
       "    .dataframe tbody tr th:only-of-type {\n",
       "        vertical-align: middle;\n",
       "    }\n",
       "\n",
       "    .dataframe tbody tr th {\n",
       "        vertical-align: top;\n",
       "    }\n",
       "\n",
       "    .dataframe thead th {\n",
       "        text-align: right;\n",
       "    }\n",
       "</style>\n",
       "<table border=\"1\" class=\"dataframe\">\n",
       "  <thead>\n",
       "    <tr style=\"text-align: right;\">\n",
       "      <th></th>\n",
       "      <th>id</th>\n",
       "      <th>title</th>\n",
       "      <th>is_paid</th>\n",
       "      <th>num_subscribers</th>\n",
       "      <th>rating</th>\n",
       "      <th>num_reviews</th>\n",
       "      <th>is_wishlisted</th>\n",
       "      <th>num_published_lectures</th>\n",
       "      <th>num_published_practice_tests</th>\n",
       "      <th>created</th>\n",
       "      <th>published_time</th>\n",
       "      <th>discount_price__amount</th>\n",
       "      <th>price_detail__amount</th>\n",
       "    </tr>\n",
       "  </thead>\n",
       "  <tbody>\n",
       "    <tr>\n",
       "      <th>0</th>\n",
       "      <td>762616</td>\n",
       "      <td>The Complete SQL Bootcamp 2020: Go from Zero t...</td>\n",
       "      <td>True</td>\n",
       "      <td>295509</td>\n",
       "      <td>4.67874</td>\n",
       "      <td>78006</td>\n",
       "      <td>False</td>\n",
       "      <td>84</td>\n",
       "      <td>0</td>\n",
       "      <td>2016-02-14T22:57:48Z</td>\n",
       "      <td>2016-04-06T05:16:11Z</td>\n",
       "      <td>455.0</td>\n",
       "      <td>8640.0</td>\n",
       "    </tr>\n",
       "    <tr>\n",
       "      <th>1</th>\n",
       "      <td>937678</td>\n",
       "      <td>Tableau 2020 A-Z: Hands-On Tableau Training fo...</td>\n",
       "      <td>True</td>\n",
       "      <td>209070</td>\n",
       "      <td>4.60015</td>\n",
       "      <td>54581</td>\n",
       "      <td>False</td>\n",
       "      <td>78</td>\n",
       "      <td>0</td>\n",
       "      <td>2016-08-22T12:10:18Z</td>\n",
       "      <td>2016-08-23T16:59:49Z</td>\n",
       "      <td>455.0</td>\n",
       "      <td>8640.0</td>\n",
       "    </tr>\n",
       "  </tbody>\n",
       "</table>\n",
       "</div>"
      ],
      "text/plain": [
       "       id                                              title  is_paid  \\\n",
       "0  762616  The Complete SQL Bootcamp 2020: Go from Zero t...     True   \n",
       "1  937678  Tableau 2020 A-Z: Hands-On Tableau Training fo...     True   \n",
       "\n",
       "   num_subscribers   rating  num_reviews  is_wishlisted  \\\n",
       "0           295509  4.67874        78006          False   \n",
       "1           209070  4.60015        54581          False   \n",
       "\n",
       "   num_published_lectures  num_published_practice_tests               created  \\\n",
       "0                      84                             0  2016-02-14T22:57:48Z   \n",
       "1                      78                             0  2016-08-22T12:10:18Z   \n",
       "\n",
       "         published_time  discount_price__amount  price_detail__amount  \n",
       "0  2016-04-06T05:16:11Z                   455.0                8640.0  \n",
       "1  2016-08-23T16:59:49Z                   455.0                8640.0  "
      ]
     },
     "execution_count": 2,
     "metadata": {},
     "output_type": "execute_result"
    }
   ],
   "source": [
    "\n",
    "# Drop unnecessary columns for simplicity\n",
    "columns_to_drop = ['url', 'discount_price__currency', 'discount_price__price_string',\n",
    "                   'price_detail__currency', 'price_detail__price_string','avg_rating_recent','avg_rating']\n",
    "df.drop(columns=columns_to_drop,inplace=True,axis=1)\n",
    "df.info()\n",
    "df.head(2)"
   ]
  },
  {
   "cell_type": "code",
   "execution_count": 3,
   "metadata": {},
   "outputs": [
    {
     "data": {
      "text/plain": [
       "0    2016-02-14T22:57:48Z\n",
       "1    2016-08-22T12:10:18Z\n",
       "2    2017-09-26T16:32:48Z\n",
       "3    2015-10-23T13:34:35Z\n",
       "4    2015-10-12T06:39:46Z\n",
       "Name: created, dtype: object"
      ]
     },
     "execution_count": 3,
     "metadata": {},
     "output_type": "execute_result"
    }
   ],
   "source": [
    "df['created'].head()"
   ]
  },
  {
   "cell_type": "code",
   "execution_count": 4,
   "metadata": {},
   "outputs": [
    {
     "data": {
      "text/plain": [
       "0   2016-02-14 22:57:48+00:00\n",
       "1   2016-08-22 12:10:18+00:00\n",
       "2   2017-09-26 16:32:48+00:00\n",
       "3   2015-10-23 13:34:35+00:00\n",
       "4   2015-10-12 06:39:46+00:00\n",
       "Name: created, dtype: datetime64[ns, UTC]"
      ]
     },
     "execution_count": 4,
     "metadata": {},
     "output_type": "execute_result"
    }
   ],
   "source": [
    "df['created'] = pd.to_datetime(df['created'])\n",
    "df['published_time'] = pd.to_datetime(df['published_time'])\n",
    "df['created'].head()"
   ]
  },
  {
   "cell_type": "markdown",
   "metadata": {},
   "source": [
    "### Changing Currency to USD\n",
    "\n",
    "**in this step we will convert the currency from INR (Indian Rupees) to USD by multiply the the actual data by 83.33**"
   ]
  },
  {
   "cell_type": "code",
   "execution_count": 5,
   "metadata": {},
   "outputs": [
    {
     "data": {
      "text/plain": [
       "0        455.0\n",
       "1        455.0\n",
       "2        455.0\n",
       "3        455.0\n",
       "4        455.0\n",
       "         ...  \n",
       "13603      NaN\n",
       "13604      NaN\n",
       "13605      NaN\n",
       "13606      NaN\n",
       "13607      NaN\n",
       "Name: discount_price__amount, Length: 13608, dtype: float64"
      ]
     },
     "execution_count": 5,
     "metadata": {},
     "output_type": "execute_result"
    }
   ],
   "source": [
    "df['discount_price__amount']"
   ]
  },
  {
   "cell_type": "code",
   "execution_count": 6,
   "metadata": {},
   "outputs": [
    {
     "data": {
      "text/plain": [
       "0        5.460218\n",
       "1        5.460218\n",
       "2        5.460218\n",
       "3        5.460218\n",
       "4        5.460218\n",
       "           ...   \n",
       "13603         NaN\n",
       "13604         NaN\n",
       "13605         NaN\n",
       "13606         NaN\n",
       "13607         NaN\n",
       "Name: discount_price__amount, Length: 13608, dtype: float64"
      ]
     },
     "execution_count": 6,
     "metadata": {},
     "output_type": "execute_result"
    }
   ],
   "source": [
    "df['discount_price__amount']= df['discount_price__amount']/83.33\n",
    "df['price_detail__amount']= df['price_detail__amount']/83.33\n",
    "df['discount_price__amount']"
   ]
  },
  {
   "cell_type": "code",
   "execution_count": 7,
   "metadata": {},
   "outputs": [
    {
     "name": "stdout",
     "output_type": "stream",
     "text": [
      "<class 'pandas.core.frame.DataFrame'>\n",
      "RangeIndex: 13608 entries, 0 to 13607\n",
      "Data columns (total 13 columns):\n",
      " #   Column                        Non-Null Count  Dtype              \n",
      "---  ------                        --------------  -----              \n",
      " 0   id                            13608 non-null  int64              \n",
      " 1   title                         13608 non-null  object             \n",
      " 2   is_paid                       13608 non-null  bool               \n",
      " 3   num_subscribers               13608 non-null  int64              \n",
      " 4   rating                        13608 non-null  float64            \n",
      " 5   num_reviews                   13608 non-null  int64              \n",
      " 6   is_wishlisted                 13608 non-null  bool               \n",
      " 7   num_published_lectures        13608 non-null  int64              \n",
      " 8   num_published_practice_tests  13608 non-null  int64              \n",
      " 9   created                       13608 non-null  datetime64[ns, UTC]\n",
      " 10  published_time                13608 non-null  datetime64[ns, UTC]\n",
      " 11  discount_price__amount        12205 non-null  float64            \n",
      " 12  price_detail__amount          13111 non-null  float64            \n",
      "dtypes: bool(2), datetime64[ns, UTC](2), float64(3), int64(5), object(1)\n",
      "memory usage: 1.2+ MB\n"
     ]
    }
   ],
   "source": [
    "df.info()"
   ]
  },
  {
   "cell_type": "markdown",
   "metadata": {},
   "source": [
    "### Percent of discount\n",
    "**in this step we will calculate the percentage of disconted price using the difference between the total amont and the dicounted amont column, and then we will impute the missing values in each column**"
   ]
  },
  {
   "cell_type": "code",
   "execution_count": 8,
   "metadata": {},
   "outputs": [
    {
     "data": {
      "text/plain": [
       "0        5.266204\n",
       "1        5.266204\n",
       "2        5.266204\n",
       "3        5.266204\n",
       "4        5.266204\n",
       "           ...   \n",
       "13603         NaN\n",
       "13604         NaN\n",
       "13605         NaN\n",
       "13606         NaN\n",
       "13607         NaN\n",
       "Name: discount_percentage, Length: 13608, dtype: float64"
      ]
     },
     "execution_count": 8,
     "metadata": {},
     "output_type": "execute_result"
    }
   ],
   "source": [
    "df['discount_percentage'] = (df['discount_price__amount'] / df['price_detail__amount'])*100\n",
    "df['discount_percentage']"
   ]
  },
  {
   "cell_type": "code",
   "execution_count": 9,
   "metadata": {},
   "outputs": [
    {
     "name": "stdout",
     "output_type": "stream",
     "text": [
      "<class 'pandas.core.frame.DataFrame'>\n",
      "RangeIndex: 13608 entries, 0 to 13607\n",
      "Data columns (total 14 columns):\n",
      " #   Column                        Non-Null Count  Dtype              \n",
      "---  ------                        --------------  -----              \n",
      " 0   id                            13608 non-null  int64              \n",
      " 1   title                         13608 non-null  object             \n",
      " 2   is_paid                       13608 non-null  bool               \n",
      " 3   num_subscribers               13608 non-null  int64              \n",
      " 4   rating                        13608 non-null  float64            \n",
      " 5   num_reviews                   13608 non-null  int64              \n",
      " 6   is_wishlisted                 13608 non-null  bool               \n",
      " 7   num_published_lectures        13608 non-null  int64              \n",
      " 8   num_published_practice_tests  13608 non-null  int64              \n",
      " 9   created                       13608 non-null  datetime64[ns, UTC]\n",
      " 10  published_time                13608 non-null  datetime64[ns, UTC]\n",
      " 11  discount_price__amount        12205 non-null  float64            \n",
      " 12  price_detail__amount          13111 non-null  float64            \n",
      " 13  discount_percentage           12205 non-null  float64            \n",
      "dtypes: bool(2), datetime64[ns, UTC](2), float64(4), int64(5), object(1)\n",
      "memory usage: 1.3+ MB\n"
     ]
    }
   ],
   "source": [
    "df.info()"
   ]
  },
  {
   "cell_type": "markdown",
   "metadata": {},
   "source": []
  },
  {
   "cell_type": "code",
   "execution_count": 10,
   "metadata": {},
   "outputs": [
    {
     "name": "stdout",
     "output_type": "stream",
     "text": [
      "<class 'pandas.core.frame.DataFrame'>\n",
      "RangeIndex: 13608 entries, 0 to 13607\n",
      "Data columns (total 14 columns):\n",
      " #   Column                        Non-Null Count  Dtype              \n",
      "---  ------                        --------------  -----              \n",
      " 0   id                            13608 non-null  int64              \n",
      " 1   title                         13608 non-null  object             \n",
      " 2   is_paid                       13608 non-null  bool               \n",
      " 3   num_subscribers               13608 non-null  int64              \n",
      " 4   rating                        13608 non-null  float64            \n",
      " 5   num_reviews                   13608 non-null  int64              \n",
      " 6   is_wishlisted                 13608 non-null  bool               \n",
      " 7   num_published_lectures        13608 non-null  int64              \n",
      " 8   num_published_practice_tests  13608 non-null  int64              \n",
      " 9   created                       13608 non-null  datetime64[ns, UTC]\n",
      " 10  published_time                13608 non-null  datetime64[ns, UTC]\n",
      " 11  discount_price__amount        13608 non-null  float64            \n",
      " 12  price_detail__amount          13608 non-null  float64            \n",
      " 13  discount_percentage           13608 non-null  float64            \n",
      "dtypes: bool(2), datetime64[ns, UTC](2), float64(4), int64(5), object(1)\n",
      "memory usage: 1.3+ MB\n"
     ]
    }
   ],
   "source": [
    "# Handle missing values in numeric columns using mean imputation\n",
    "numeric_columns = ['discount_price__amount','discount_percentage', 'price_detail__amount']\n",
    "imputer = SimpleImputer(strategy='median')\n",
    "df[numeric_columns] = imputer.fit_transform(df[numeric_columns])\n",
    "df.info()\n"
   ]
  },
  {
   "cell_type": "code",
   "execution_count": 11,
   "metadata": {},
   "outputs": [],
   "source": [
    "df['title'] = df['title'].str.lower()\n",
    "df['title'] = df['title'].str.strip().replace(r'\\s+', ' ', regex=True)\n",
    "df['title'] = df['title'].str.replace(r'[^\\w\\s]', '', regex=True)"
   ]
  },
  {
   "cell_type": "code",
   "execution_count": 12,
   "metadata": {},
   "outputs": [
    {
     "data": {
      "text/html": [
       "<div>\n",
       "<style scoped>\n",
       "    .dataframe tbody tr th:only-of-type {\n",
       "        vertical-align: middle;\n",
       "    }\n",
       "\n",
       "    .dataframe tbody tr th {\n",
       "        vertical-align: top;\n",
       "    }\n",
       "\n",
       "    .dataframe thead th {\n",
       "        text-align: right;\n",
       "    }\n",
       "</style>\n",
       "<table border=\"1\" class=\"dataframe\">\n",
       "  <thead>\n",
       "    <tr style=\"text-align: right;\">\n",
       "      <th></th>\n",
       "      <th>id</th>\n",
       "      <th>title</th>\n",
       "      <th>is_paid</th>\n",
       "      <th>num_subscribers</th>\n",
       "      <th>rating</th>\n",
       "      <th>num_reviews</th>\n",
       "      <th>is_wishlisted</th>\n",
       "      <th>num_published_lectures</th>\n",
       "      <th>num_published_practice_tests</th>\n",
       "      <th>created</th>\n",
       "      <th>published_time</th>\n",
       "      <th>discount_price__amount</th>\n",
       "      <th>price_detail__amount</th>\n",
       "      <th>discount_percentage</th>\n",
       "      <th>category</th>\n",
       "    </tr>\n",
       "  </thead>\n",
       "  <tbody>\n",
       "    <tr>\n",
       "      <th>0</th>\n",
       "      <td>762616</td>\n",
       "      <td>the complete sql bootcamp 2020 go from zero to...</td>\n",
       "      <td>True</td>\n",
       "      <td>295509</td>\n",
       "      <td>4.67874</td>\n",
       "      <td>78006</td>\n",
       "      <td>False</td>\n",
       "      <td>84</td>\n",
       "      <td>0</td>\n",
       "      <td>2016-02-14 22:57:48+00:00</td>\n",
       "      <td>2016-04-06 05:16:11+00:00</td>\n",
       "      <td>5.460218</td>\n",
       "      <td>103.684147</td>\n",
       "      <td>5.266204</td>\n",
       "      <td>Database</td>\n",
       "    </tr>\n",
       "    <tr>\n",
       "      <th>1</th>\n",
       "      <td>937678</td>\n",
       "      <td>tableau 2020 az handson tableau training for d...</td>\n",
       "      <td>True</td>\n",
       "      <td>209070</td>\n",
       "      <td>4.60015</td>\n",
       "      <td>54581</td>\n",
       "      <td>False</td>\n",
       "      <td>78</td>\n",
       "      <td>0</td>\n",
       "      <td>2016-08-22 12:10:18+00:00</td>\n",
       "      <td>2016-08-23 16:59:49+00:00</td>\n",
       "      <td>5.460218</td>\n",
       "      <td>103.684147</td>\n",
       "      <td>5.266204</td>\n",
       "      <td>Data Visualization</td>\n",
       "    </tr>\n",
       "  </tbody>\n",
       "</table>\n",
       "</div>"
      ],
      "text/plain": [
       "       id                                              title  is_paid  \\\n",
       "0  762616  the complete sql bootcamp 2020 go from zero to...     True   \n",
       "1  937678  tableau 2020 az handson tableau training for d...     True   \n",
       "\n",
       "   num_subscribers   rating  num_reviews  is_wishlisted  \\\n",
       "0           295509  4.67874        78006          False   \n",
       "1           209070  4.60015        54581          False   \n",
       "\n",
       "   num_published_lectures  num_published_practice_tests  \\\n",
       "0                      84                             0   \n",
       "1                      78                             0   \n",
       "\n",
       "                    created            published_time  discount_price__amount  \\\n",
       "0 2016-02-14 22:57:48+00:00 2016-04-06 05:16:11+00:00                5.460218   \n",
       "1 2016-08-22 12:10:18+00:00 2016-08-23 16:59:49+00:00                5.460218   \n",
       "\n",
       "   price_detail__amount  discount_percentage            category  \n",
       "0            103.684147             5.266204            Database  \n",
       "1            103.684147             5.266204  Data Visualization  "
      ]
     },
     "execution_count": 12,
     "metadata": {},
     "output_type": "execute_result"
    }
   ],
   "source": [
    "def categorize_title(title):\n",
    "    title_lower = title.lower()\n",
    "    if 'sql' in title_lower or 'mysql' in title_lower or 'database' in title_lower:\n",
    "        return 'Database'\n",
    "    elif 'tableau' in title_lower or 'power bi' in title_lower or 'data viz' in title_lower:\n",
    "        return 'Data Visualization'\n",
    "    elif 'excel' in title_lower or 'spreadsheet' in title_lower:\n",
    "        return 'Spreadsheet'\n",
    "    elif any(kw in title_lower for kw in ['agile', 'scrum', 'pmp', 'project management']):\n",
    "        return 'Project Management'\n",
    "    elif any(kw in title_lower for kw in ['financial', 'finance', 'accounting']):\n",
    "        return 'Finance'\n",
    "    elif 'mba' in title_lower or 'business' in title_lower or 'enterprise' in title_lower:\n",
    "        return 'Business'\n",
    "    elif any(kw in title_lower for kw in ['write', 'writing', 'editorial']):\n",
    "        return 'Writing'\n",
    "    elif 'sale' in title_lower or 'marketing' in title_lower:\n",
    "        return 'Sales/Marketing'\n",
    "    elif any(kw in title_lower for kw in ['data science', 'analytics', 'machine learning']):\n",
    "        return 'Data Science'\n",
    "    elif 'management' in title_lower:\n",
    "        return 'Management'\n",
    "    elif 'leadership' in title_lower:\n",
    "        return 'Leadership'\n",
    "    elif 'communication' in title_lower:\n",
    "        return 'Communication'\n",
    "    else:\n",
    "        return 'Other'\n",
    "\n",
    "df['category'] = df['title'].apply(categorize_title)\n",
    "df.head(2)"
   ]
  },
  {
   "cell_type": "code",
   "execution_count": 13,
   "metadata": {},
   "outputs": [
    {
     "name": "stdout",
     "output_type": "stream",
     "text": [
      "<class 'pandas.core.frame.DataFrame'>\n",
      "RangeIndex: 13608 entries, 0 to 13607\n",
      "Data columns (total 15 columns):\n",
      " #   Column                        Non-Null Count  Dtype              \n",
      "---  ------                        --------------  -----              \n",
      " 0   id                            13608 non-null  int64              \n",
      " 1   title                         13608 non-null  object             \n",
      " 2   is_paid                       13608 non-null  bool               \n",
      " 3   num_subscribers               13608 non-null  int64              \n",
      " 4   rating                        13608 non-null  float64            \n",
      " 5   num_reviews                   13608 non-null  int64              \n",
      " 6   is_wishlisted                 13608 non-null  bool               \n",
      " 7   num_published_lectures        13608 non-null  int64              \n",
      " 8   num_published_practice_tests  13608 non-null  int64              \n",
      " 9   created                       13608 non-null  datetime64[ns, UTC]\n",
      " 10  published_time                13608 non-null  datetime64[ns, UTC]\n",
      " 11  discount_price__amount        13608 non-null  float64            \n",
      " 12  price_detail__amount          13608 non-null  float64            \n",
      " 13  discount_percentage           13608 non-null  float64            \n",
      " 14  category                      13608 non-null  object             \n",
      "dtypes: bool(2), datetime64[ns, UTC](2), float64(4), int64(5), object(2)\n",
      "memory usage: 1.4+ MB\n"
     ]
    }
   ],
   "source": [
    "df.info()"
   ]
  },
  {
   "cell_type": "code",
   "execution_count": 14,
   "metadata": {},
   "outputs": [
    {
     "data": {
      "text/plain": [
       "category\n",
       "Other                 8685\n",
       "Business              1450\n",
       "Finance               1119\n",
       "Management             523\n",
       "Sales/Marketing        516\n",
       "Project Management     374\n",
       "Spreadsheet            263\n",
       "Writing                259\n",
       "Data Visualization     129\n",
       "Data Science            99\n",
       "Leadership              74\n",
       "Communication           71\n",
       "Database                46\n",
       "Name: count, dtype: int64"
      ]
     },
     "execution_count": 14,
     "metadata": {},
     "output_type": "execute_result"
    }
   ],
   "source": [
    "df['category'].value_counts()"
   ]
  }
 ],
 "metadata": {
  "kernelspec": {
   "display_name": "Python 3",
   "language": "python",
   "name": "python3"
  },
  "language_info": {
   "codemirror_mode": {
    "name": "ipython",
    "version": 3
   },
   "file_extension": ".py",
   "mimetype": "text/x-python",
   "name": "python",
   "nbconvert_exporter": "python",
   "pygments_lexer": "ipython3",
   "version": "3.12.4"
  }
 },
 "nbformat": 4,
 "nbformat_minor": 2
}
